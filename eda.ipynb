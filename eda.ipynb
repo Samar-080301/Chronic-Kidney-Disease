{
  "nbformat": 4,
  "nbformat_minor": 0,
  "metadata": {
    "colab": {
      "name": "eda.ipynb",
      "provenance": []
    },
    "kernelspec": {
      "name": "python3",
      "display_name": "Python 3"
    }
  },
  "cells": [
    {
      "cell_type": "code",
      "metadata": {
        "id": "yKl6YB8YRYuT"
      },
      "source": [
        "import matplotlib.pyplot as plt\r\n",
        "import numpy as np\r\n",
        "import scipy.stats as sc\r\n",
        "import pandas as pd\r\n",
        "import seaborn as sns\r\n",
        "from sklearn.tree import DecisionTreeClassifier\r\n",
        "from sklearn.preprocessing import StandardScaler\r\n",
        "from sklearn.preprocessing import MinMaxScaler\r\n",
        "from sklearn.decomposition import PCA\r\n",
        "from sklearn import preprocessing\r\n",
        "%matplotlib inline"
      ],
      "execution_count": 102,
      "outputs": []
    },
    {
      "cell_type": "code",
      "metadata": {
        "colab": {
          "base_uri": "https://localhost:8080/",
          "height": 659
        },
        "id": "Sb_2IKstUo5F",
        "outputId": "084c7750-7e64-458d-b1e0-33f62260e4a7"
      },
      "source": [
        "x = pd.read_csv('/content/ckd_full.csv')\r\n",
        "x.head(20)"
      ],
      "execution_count": 30,
      "outputs": [
        {
          "output_type": "execute_result",
          "data": {
            "text/html": [
              "<div>\n",
              "<style scoped>\n",
              "    .dataframe tbody tr th:only-of-type {\n",
              "        vertical-align: middle;\n",
              "    }\n",
              "\n",
              "    .dataframe tbody tr th {\n",
              "        vertical-align: top;\n",
              "    }\n",
              "\n",
              "    .dataframe thead th {\n",
              "        text-align: right;\n",
              "    }\n",
              "</style>\n",
              "<table border=\"1\" class=\"dataframe\">\n",
              "  <thead>\n",
              "    <tr style=\"text-align: right;\">\n",
              "      <th></th>\n",
              "      <th>age</th>\n",
              "      <th>bp</th>\n",
              "      <th>sg</th>\n",
              "      <th>al</th>\n",
              "      <th>su</th>\n",
              "      <th>rbc</th>\n",
              "      <th>pc</th>\n",
              "      <th>pcc</th>\n",
              "      <th>ba</th>\n",
              "      <th>bgr</th>\n",
              "      <th>bu</th>\n",
              "      <th>sc</th>\n",
              "      <th>sod</th>\n",
              "      <th>pot</th>\n",
              "      <th>hemo</th>\n",
              "      <th>pcv</th>\n",
              "      <th>wbcc</th>\n",
              "      <th>rbcc</th>\n",
              "      <th>htn</th>\n",
              "      <th>dm</th>\n",
              "      <th>cad</th>\n",
              "      <th>appet</th>\n",
              "      <th>pe</th>\n",
              "      <th>ane</th>\n",
              "      <th>class</th>\n",
              "    </tr>\n",
              "  </thead>\n",
              "  <tbody>\n",
              "    <tr>\n",
              "      <th>0</th>\n",
              "      <td>73</td>\n",
              "      <td>?</td>\n",
              "      <td>1.01</td>\n",
              "      <td>1</td>\n",
              "      <td>0</td>\n",
              "      <td>?</td>\n",
              "      <td>?</td>\n",
              "      <td>notpresent</td>\n",
              "      <td>notpresent</td>\n",
              "      <td>95</td>\n",
              "      <td>51</td>\n",
              "      <td>1.6</td>\n",
              "      <td>142</td>\n",
              "      <td>3.5</td>\n",
              "      <td>?</td>\n",
              "      <td>?</td>\n",
              "      <td>?</td>\n",
              "      <td>?</td>\n",
              "      <td>no</td>\n",
              "      <td>no</td>\n",
              "      <td>no</td>\n",
              "      <td>good</td>\n",
              "      <td>no</td>\n",
              "      <td>no</td>\n",
              "      <td>ckd</td>\n",
              "    </tr>\n",
              "    <tr>\n",
              "      <th>1</th>\n",
              "      <td>62</td>\n",
              "      <td>?</td>\n",
              "      <td>1.015</td>\n",
              "      <td>3</td>\n",
              "      <td>0</td>\n",
              "      <td>abnormal</td>\n",
              "      <td>?</td>\n",
              "      <td>notpresent</td>\n",
              "      <td>notpresent</td>\n",
              "      <td>?</td>\n",
              "      <td>?</td>\n",
              "      <td>?</td>\n",
              "      <td>?</td>\n",
              "      <td>?</td>\n",
              "      <td>14.3</td>\n",
              "      <td>42</td>\n",
              "      <td>10200</td>\n",
              "      <td>4.8</td>\n",
              "      <td>yes</td>\n",
              "      <td>yes</td>\n",
              "      <td>no</td>\n",
              "      <td>good</td>\n",
              "      <td>no</td>\n",
              "      <td>no</td>\n",
              "      <td>ckd</td>\n",
              "    </tr>\n",
              "    <tr>\n",
              "      <th>2</th>\n",
              "      <td>50</td>\n",
              "      <td>?</td>\n",
              "      <td>?</td>\n",
              "      <td>?</td>\n",
              "      <td>?</td>\n",
              "      <td>normal</td>\n",
              "      <td>?</td>\n",
              "      <td>notpresent</td>\n",
              "      <td>notpresent</td>\n",
              "      <td>219</td>\n",
              "      <td>176</td>\n",
              "      <td>13.8</td>\n",
              "      <td>136</td>\n",
              "      <td>4.5</td>\n",
              "      <td>8.6</td>\n",
              "      <td>24</td>\n",
              "      <td>13200</td>\n",
              "      <td>2.7</td>\n",
              "      <td>yes</td>\n",
              "      <td>no</td>\n",
              "      <td>no</td>\n",
              "      <td>good</td>\n",
              "      <td>yes</td>\n",
              "      <td>yes</td>\n",
              "      <td>ckd</td>\n",
              "    </tr>\n",
              "    <tr>\n",
              "      <th>3</th>\n",
              "      <td>50</td>\n",
              "      <td>?</td>\n",
              "      <td>1.02</td>\n",
              "      <td>0</td>\n",
              "      <td>0</td>\n",
              "      <td>normal</td>\n",
              "      <td>normal</td>\n",
              "      <td>notpresent</td>\n",
              "      <td>notpresent</td>\n",
              "      <td>92</td>\n",
              "      <td>19</td>\n",
              "      <td>1.2</td>\n",
              "      <td>150</td>\n",
              "      <td>4.8</td>\n",
              "      <td>14.9</td>\n",
              "      <td>48</td>\n",
              "      <td>4700</td>\n",
              "      <td>5.4</td>\n",
              "      <td>no</td>\n",
              "      <td>no</td>\n",
              "      <td>no</td>\n",
              "      <td>good</td>\n",
              "      <td>no</td>\n",
              "      <td>no</td>\n",
              "      <td>notckd</td>\n",
              "    </tr>\n",
              "    <tr>\n",
              "      <th>4</th>\n",
              "      <td>35</td>\n",
              "      <td>?</td>\n",
              "      <td>1.02</td>\n",
              "      <td>0</td>\n",
              "      <td>0</td>\n",
              "      <td>normal</td>\n",
              "      <td>normal</td>\n",
              "      <td>?</td>\n",
              "      <td>?</td>\n",
              "      <td>99</td>\n",
              "      <td>30</td>\n",
              "      <td>0.5</td>\n",
              "      <td>135</td>\n",
              "      <td>4.9</td>\n",
              "      <td>15.4</td>\n",
              "      <td>48</td>\n",
              "      <td>5000</td>\n",
              "      <td>5.2</td>\n",
              "      <td>no</td>\n",
              "      <td>no</td>\n",
              "      <td>no</td>\n",
              "      <td>good</td>\n",
              "      <td>no</td>\n",
              "      <td>no</td>\n",
              "      <td>notckd</td>\n",
              "    </tr>\n",
              "    <tr>\n",
              "      <th>5</th>\n",
              "      <td>24</td>\n",
              "      <td>?</td>\n",
              "      <td>1.015</td>\n",
              "      <td>2</td>\n",
              "      <td>4</td>\n",
              "      <td>normal</td>\n",
              "      <td>abnormal</td>\n",
              "      <td>notpresent</td>\n",
              "      <td>notpresent</td>\n",
              "      <td>410</td>\n",
              "      <td>31</td>\n",
              "      <td>1.1</td>\n",
              "      <td>?</td>\n",
              "      <td>?</td>\n",
              "      <td>12.4</td>\n",
              "      <td>44</td>\n",
              "      <td>6900</td>\n",
              "      <td>5</td>\n",
              "      <td>no</td>\n",
              "      <td>yes</td>\n",
              "      <td>no</td>\n",
              "      <td>good</td>\n",
              "      <td>yes</td>\n",
              "      <td>no</td>\n",
              "      <td>ckd</td>\n",
              "    </tr>\n",
              "    <tr>\n",
              "      <th>6</th>\n",
              "      <td>14</td>\n",
              "      <td>?</td>\n",
              "      <td>1.015</td>\n",
              "      <td>0</td>\n",
              "      <td>0</td>\n",
              "      <td>?</td>\n",
              "      <td>?</td>\n",
              "      <td>notpresent</td>\n",
              "      <td>notpresent</td>\n",
              "      <td>192</td>\n",
              "      <td>15</td>\n",
              "      <td>0.8</td>\n",
              "      <td>137</td>\n",
              "      <td>4.2</td>\n",
              "      <td>14.3</td>\n",
              "      <td>40</td>\n",
              "      <td>9500</td>\n",
              "      <td>5.4</td>\n",
              "      <td>no</td>\n",
              "      <td>yes</td>\n",
              "      <td>no</td>\n",
              "      <td>poor</td>\n",
              "      <td>yes</td>\n",
              "      <td>no</td>\n",
              "      <td>ckd</td>\n",
              "    </tr>\n",
              "    <tr>\n",
              "      <th>7</th>\n",
              "      <td>8</td>\n",
              "      <td>?</td>\n",
              "      <td>?</td>\n",
              "      <td>?</td>\n",
              "      <td>?</td>\n",
              "      <td>?</td>\n",
              "      <td>?</td>\n",
              "      <td>notpresent</td>\n",
              "      <td>notpresent</td>\n",
              "      <td>80</td>\n",
              "      <td>66</td>\n",
              "      <td>2.5</td>\n",
              "      <td>142</td>\n",
              "      <td>3.6</td>\n",
              "      <td>12.2</td>\n",
              "      <td>38</td>\n",
              "      <td>?</td>\n",
              "      <td>?</td>\n",
              "      <td>no</td>\n",
              "      <td>no</td>\n",
              "      <td>no</td>\n",
              "      <td>good</td>\n",
              "      <td>no</td>\n",
              "      <td>no</td>\n",
              "      <td>ckd</td>\n",
              "    </tr>\n",
              "    <tr>\n",
              "      <th>8</th>\n",
              "      <td>5</td>\n",
              "      <td>?</td>\n",
              "      <td>1.015</td>\n",
              "      <td>1</td>\n",
              "      <td>0</td>\n",
              "      <td>?</td>\n",
              "      <td>normal</td>\n",
              "      <td>notpresent</td>\n",
              "      <td>notpresent</td>\n",
              "      <td>?</td>\n",
              "      <td>16</td>\n",
              "      <td>0.7</td>\n",
              "      <td>138</td>\n",
              "      <td>3.2</td>\n",
              "      <td>8.1</td>\n",
              "      <td>?</td>\n",
              "      <td>?</td>\n",
              "      <td>?</td>\n",
              "      <td>no</td>\n",
              "      <td>no</td>\n",
              "      <td>no</td>\n",
              "      <td>good</td>\n",
              "      <td>no</td>\n",
              "      <td>yes</td>\n",
              "      <td>ckd</td>\n",
              "    </tr>\n",
              "    <tr>\n",
              "      <th>9</th>\n",
              "      <td>4</td>\n",
              "      <td>?</td>\n",
              "      <td>1.02</td>\n",
              "      <td>1</td>\n",
              "      <td>0</td>\n",
              "      <td>?</td>\n",
              "      <td>normal</td>\n",
              "      <td>notpresent</td>\n",
              "      <td>notpresent</td>\n",
              "      <td>99</td>\n",
              "      <td>23</td>\n",
              "      <td>0.6</td>\n",
              "      <td>138</td>\n",
              "      <td>4.4</td>\n",
              "      <td>12</td>\n",
              "      <td>34</td>\n",
              "      <td>?</td>\n",
              "      <td>?</td>\n",
              "      <td>no</td>\n",
              "      <td>no</td>\n",
              "      <td>no</td>\n",
              "      <td>good</td>\n",
              "      <td>no</td>\n",
              "      <td>no</td>\n",
              "      <td>ckd</td>\n",
              "    </tr>\n",
              "    <tr>\n",
              "      <th>10</th>\n",
              "      <td>3</td>\n",
              "      <td>?</td>\n",
              "      <td>1.01</td>\n",
              "      <td>2</td>\n",
              "      <td>0</td>\n",
              "      <td>normal</td>\n",
              "      <td>normal</td>\n",
              "      <td>notpresent</td>\n",
              "      <td>notpresent</td>\n",
              "      <td>?</td>\n",
              "      <td>22</td>\n",
              "      <td>0.7</td>\n",
              "      <td>?</td>\n",
              "      <td>?</td>\n",
              "      <td>10.7</td>\n",
              "      <td>34</td>\n",
              "      <td>12300</td>\n",
              "      <td>?</td>\n",
              "      <td>no</td>\n",
              "      <td>no</td>\n",
              "      <td>no</td>\n",
              "      <td>good</td>\n",
              "      <td>no</td>\n",
              "      <td>no</td>\n",
              "      <td>ckd</td>\n",
              "    </tr>\n",
              "    <tr>\n",
              "      <th>11</th>\n",
              "      <td>2</td>\n",
              "      <td>?</td>\n",
              "      <td>1.01</td>\n",
              "      <td>3</td>\n",
              "      <td>0</td>\n",
              "      <td>normal</td>\n",
              "      <td>abnormal</td>\n",
              "      <td>notpresent</td>\n",
              "      <td>notpresent</td>\n",
              "      <td>?</td>\n",
              "      <td>?</td>\n",
              "      <td>?</td>\n",
              "      <td>?</td>\n",
              "      <td>?</td>\n",
              "      <td>?</td>\n",
              "      <td>?</td>\n",
              "      <td>?</td>\n",
              "      <td>?</td>\n",
              "      <td>no</td>\n",
              "      <td>no</td>\n",
              "      <td>no</td>\n",
              "      <td>good</td>\n",
              "      <td>yes</td>\n",
              "      <td>no</td>\n",
              "      <td>ckd</td>\n",
              "    </tr>\n",
              "    <tr>\n",
              "      <th>12</th>\n",
              "      <td>56</td>\n",
              "      <td>180</td>\n",
              "      <td>?</td>\n",
              "      <td>0</td>\n",
              "      <td>4</td>\n",
              "      <td>?</td>\n",
              "      <td>abnormal</td>\n",
              "      <td>notpresent</td>\n",
              "      <td>notpresent</td>\n",
              "      <td>298</td>\n",
              "      <td>24</td>\n",
              "      <td>1.2</td>\n",
              "      <td>139</td>\n",
              "      <td>3.9</td>\n",
              "      <td>11.2</td>\n",
              "      <td>32</td>\n",
              "      <td>10400</td>\n",
              "      <td>4.2</td>\n",
              "      <td>yes</td>\n",
              "      <td>yes</td>\n",
              "      <td>no</td>\n",
              "      <td>poor</td>\n",
              "      <td>yes</td>\n",
              "      <td>no</td>\n",
              "      <td>ckd</td>\n",
              "    </tr>\n",
              "    <tr>\n",
              "      <th>13</th>\n",
              "      <td>50</td>\n",
              "      <td>140</td>\n",
              "      <td>?</td>\n",
              "      <td>?</td>\n",
              "      <td>?</td>\n",
              "      <td>?</td>\n",
              "      <td>?</td>\n",
              "      <td>notpresent</td>\n",
              "      <td>notpresent</td>\n",
              "      <td>101</td>\n",
              "      <td>106</td>\n",
              "      <td>6.5</td>\n",
              "      <td>135</td>\n",
              "      <td>4.3</td>\n",
              "      <td>6.2</td>\n",
              "      <td>18</td>\n",
              "      <td>5800</td>\n",
              "      <td>2.3</td>\n",
              "      <td>yes</td>\n",
              "      <td>yes</td>\n",
              "      <td>no</td>\n",
              "      <td>poor</td>\n",
              "      <td>no</td>\n",
              "      <td>yes</td>\n",
              "      <td>ckd</td>\n",
              "    </tr>\n",
              "    <tr>\n",
              "      <th>14</th>\n",
              "      <td>54</td>\n",
              "      <td>120</td>\n",
              "      <td>1.015</td>\n",
              "      <td>0</td>\n",
              "      <td>0</td>\n",
              "      <td>?</td>\n",
              "      <td>normal</td>\n",
              "      <td>notpresent</td>\n",
              "      <td>notpresent</td>\n",
              "      <td>103</td>\n",
              "      <td>18</td>\n",
              "      <td>1.2</td>\n",
              "      <td>?</td>\n",
              "      <td>?</td>\n",
              "      <td>?</td>\n",
              "      <td>?</td>\n",
              "      <td>?</td>\n",
              "      <td>?</td>\n",
              "      <td>no</td>\n",
              "      <td>no</td>\n",
              "      <td>no</td>\n",
              "      <td>good</td>\n",
              "      <td>no</td>\n",
              "      <td>no</td>\n",
              "      <td>ckd</td>\n",
              "    </tr>\n",
              "    <tr>\n",
              "      <th>15</th>\n",
              "      <td>58</td>\n",
              "      <td>110</td>\n",
              "      <td>1.01</td>\n",
              "      <td>4</td>\n",
              "      <td>0</td>\n",
              "      <td>?</td>\n",
              "      <td>normal</td>\n",
              "      <td>notpresent</td>\n",
              "      <td>notpresent</td>\n",
              "      <td>251</td>\n",
              "      <td>52</td>\n",
              "      <td>2.2</td>\n",
              "      <td>?</td>\n",
              "      <td>?</td>\n",
              "      <td>?</td>\n",
              "      <td>?</td>\n",
              "      <td>13200</td>\n",
              "      <td>4.7</td>\n",
              "      <td>yes</td>\n",
              "      <td>yes</td>\n",
              "      <td>no</td>\n",
              "      <td>good</td>\n",
              "      <td>no</td>\n",
              "      <td>no</td>\n",
              "      <td>ckd</td>\n",
              "    </tr>\n",
              "    <tr>\n",
              "      <th>16</th>\n",
              "      <td>48</td>\n",
              "      <td>110</td>\n",
              "      <td>1.015</td>\n",
              "      <td>3</td>\n",
              "      <td>0</td>\n",
              "      <td>abnormal</td>\n",
              "      <td>normal</td>\n",
              "      <td>present</td>\n",
              "      <td>notpresent</td>\n",
              "      <td>106</td>\n",
              "      <td>215</td>\n",
              "      <td>15.2</td>\n",
              "      <td>120</td>\n",
              "      <td>5.7</td>\n",
              "      <td>8.6</td>\n",
              "      <td>26</td>\n",
              "      <td>5000</td>\n",
              "      <td>2.5</td>\n",
              "      <td>yes</td>\n",
              "      <td>no</td>\n",
              "      <td>yes</td>\n",
              "      <td>good</td>\n",
              "      <td>no</td>\n",
              "      <td>yes</td>\n",
              "      <td>ckd</td>\n",
              "    </tr>\n",
              "    <tr>\n",
              "      <th>17</th>\n",
              "      <td>46</td>\n",
              "      <td>110</td>\n",
              "      <td>1.015</td>\n",
              "      <td>0</td>\n",
              "      <td>0</td>\n",
              "      <td>?</td>\n",
              "      <td>normal</td>\n",
              "      <td>notpresent</td>\n",
              "      <td>notpresent</td>\n",
              "      <td>130</td>\n",
              "      <td>16</td>\n",
              "      <td>0.9</td>\n",
              "      <td>?</td>\n",
              "      <td>?</td>\n",
              "      <td>?</td>\n",
              "      <td>?</td>\n",
              "      <td>?</td>\n",
              "      <td>?</td>\n",
              "      <td>no</td>\n",
              "      <td>no</td>\n",
              "      <td>no</td>\n",
              "      <td>good</td>\n",
              "      <td>no</td>\n",
              "      <td>no</td>\n",
              "      <td>ckd</td>\n",
              "    </tr>\n",
              "    <tr>\n",
              "      <th>18</th>\n",
              "      <td>?</td>\n",
              "      <td>100</td>\n",
              "      <td>1.015</td>\n",
              "      <td>2</td>\n",
              "      <td>0</td>\n",
              "      <td>abnormal</td>\n",
              "      <td>abnormal</td>\n",
              "      <td>notpresent</td>\n",
              "      <td>notpresent</td>\n",
              "      <td>129</td>\n",
              "      <td>107</td>\n",
              "      <td>6.7</td>\n",
              "      <td>132</td>\n",
              "      <td>4.4</td>\n",
              "      <td>4.8</td>\n",
              "      <td>14</td>\n",
              "      <td>6300</td>\n",
              "      <td>?</td>\n",
              "      <td>yes</td>\n",
              "      <td>no</td>\n",
              "      <td>no</td>\n",
              "      <td>good</td>\n",
              "      <td>yes</td>\n",
              "      <td>yes</td>\n",
              "      <td>ckd</td>\n",
              "    </tr>\n",
              "    <tr>\n",
              "      <th>19</th>\n",
              "      <td>73</td>\n",
              "      <td>100</td>\n",
              "      <td>1.01</td>\n",
              "      <td>3</td>\n",
              "      <td>2</td>\n",
              "      <td>abnormal</td>\n",
              "      <td>abnormal</td>\n",
              "      <td>present</td>\n",
              "      <td>notpresent</td>\n",
              "      <td>295</td>\n",
              "      <td>90</td>\n",
              "      <td>5.6</td>\n",
              "      <td>140</td>\n",
              "      <td>2.9</td>\n",
              "      <td>9.2</td>\n",
              "      <td>30</td>\n",
              "      <td>7000</td>\n",
              "      <td>3.2</td>\n",
              "      <td>yes</td>\n",
              "      <td>yes</td>\n",
              "      <td>yes</td>\n",
              "      <td>poor</td>\n",
              "      <td>no</td>\n",
              "      <td>no</td>\n",
              "      <td>ckd</td>\n",
              "    </tr>\n",
              "  </tbody>\n",
              "</table>\n",
              "</div>"
            ],
            "text/plain": [
              "   age   bp     sg al su       rbc  ...   dm  cad appet   pe  ane   class\n",
              "0   73    ?   1.01  1  0         ?  ...   no   no  good   no   no     ckd\n",
              "1   62    ?  1.015  3  0  abnormal  ...  yes   no  good   no   no     ckd\n",
              "2   50    ?      ?  ?  ?    normal  ...   no   no  good  yes  yes     ckd\n",
              "3   50    ?   1.02  0  0    normal  ...   no   no  good   no   no  notckd\n",
              "4   35    ?   1.02  0  0    normal  ...   no   no  good   no   no  notckd\n",
              "5   24    ?  1.015  2  4    normal  ...  yes   no  good  yes   no     ckd\n",
              "6   14    ?  1.015  0  0         ?  ...  yes   no  poor  yes   no     ckd\n",
              "7    8    ?      ?  ?  ?         ?  ...   no   no  good   no   no     ckd\n",
              "8    5    ?  1.015  1  0         ?  ...   no   no  good   no  yes     ckd\n",
              "9    4    ?   1.02  1  0         ?  ...   no   no  good   no   no     ckd\n",
              "10   3    ?   1.01  2  0    normal  ...   no   no  good   no   no     ckd\n",
              "11   2    ?   1.01  3  0    normal  ...   no   no  good  yes   no     ckd\n",
              "12  56  180      ?  0  4         ?  ...  yes   no  poor  yes   no     ckd\n",
              "13  50  140      ?  ?  ?         ?  ...  yes   no  poor   no  yes     ckd\n",
              "14  54  120  1.015  0  0         ?  ...   no   no  good   no   no     ckd\n",
              "15  58  110   1.01  4  0         ?  ...  yes   no  good   no   no     ckd\n",
              "16  48  110  1.015  3  0  abnormal  ...   no  yes  good   no  yes     ckd\n",
              "17  46  110  1.015  0  0         ?  ...   no   no  good   no   no     ckd\n",
              "18   ?  100  1.015  2  0  abnormal  ...   no   no  good  yes  yes     ckd\n",
              "19  73  100   1.01  3  2  abnormal  ...  yes  yes  poor   no   no     ckd\n",
              "\n",
              "[20 rows x 25 columns]"
            ]
          },
          "metadata": {
            "tags": []
          },
          "execution_count": 30
        }
      ]
    },
    {
      "cell_type": "code",
      "metadata": {
        "colab": {
          "base_uri": "https://localhost:8080/"
        },
        "id": "q3e_HusxTTON",
        "outputId": "753c9af0-fb90-4be4-ccda-1cdf3a18e225"
      },
      "source": [
        "x.shape"
      ],
      "execution_count": 31,
      "outputs": [
        {
          "output_type": "execute_result",
          "data": {
            "text/plain": [
              "(400, 25)"
            ]
          },
          "metadata": {
            "tags": []
          },
          "execution_count": 31
        }
      ]
    },
    {
      "cell_type": "code",
      "metadata": {
        "colab": {
          "base_uri": "https://localhost:8080/",
          "height": 178
        },
        "id": "rVJYmHt_Wrh1",
        "outputId": "0778c79a-605c-4b96-cf9b-3f5d902f51d8"
      },
      "source": [
        "y=x[['class']]\r\n",
        "y['class']=y['class'].replace(to_replace=(r'ckd',r'notckd'), value=(1,0))\r\n",
        "x=x.iloc[:,:24]\r\n",
        "x.head(1)"
      ],
      "execution_count": 33,
      "outputs": [
        {
          "output_type": "stream",
          "text": [
            "/usr/local/lib/python3.6/dist-packages/ipykernel_launcher.py:2: SettingWithCopyWarning: \n",
            "A value is trying to be set on a copy of a slice from a DataFrame.\n",
            "Try using .loc[row_indexer,col_indexer] = value instead\n",
            "\n",
            "See the caveats in the documentation: https://pandas.pydata.org/pandas-docs/stable/user_guide/indexing.html#returning-a-view-versus-a-copy\n",
            "  \n"
          ],
          "name": "stderr"
        },
        {
          "output_type": "execute_result",
          "data": {
            "text/html": [
              "<div>\n",
              "<style scoped>\n",
              "    .dataframe tbody tr th:only-of-type {\n",
              "        vertical-align: middle;\n",
              "    }\n",
              "\n",
              "    .dataframe tbody tr th {\n",
              "        vertical-align: top;\n",
              "    }\n",
              "\n",
              "    .dataframe thead th {\n",
              "        text-align: right;\n",
              "    }\n",
              "</style>\n",
              "<table border=\"1\" class=\"dataframe\">\n",
              "  <thead>\n",
              "    <tr style=\"text-align: right;\">\n",
              "      <th></th>\n",
              "      <th>age</th>\n",
              "      <th>bp</th>\n",
              "      <th>sg</th>\n",
              "      <th>al</th>\n",
              "      <th>su</th>\n",
              "      <th>rbc</th>\n",
              "      <th>pc</th>\n",
              "      <th>pcc</th>\n",
              "      <th>ba</th>\n",
              "      <th>bgr</th>\n",
              "      <th>bu</th>\n",
              "      <th>sc</th>\n",
              "      <th>sod</th>\n",
              "      <th>pot</th>\n",
              "      <th>hemo</th>\n",
              "      <th>pcv</th>\n",
              "      <th>wbcc</th>\n",
              "      <th>rbcc</th>\n",
              "      <th>htn</th>\n",
              "      <th>dm</th>\n",
              "      <th>cad</th>\n",
              "      <th>appet</th>\n",
              "      <th>pe</th>\n",
              "      <th>ane</th>\n",
              "    </tr>\n",
              "  </thead>\n",
              "  <tbody>\n",
              "    <tr>\n",
              "      <th>0</th>\n",
              "      <td>73</td>\n",
              "      <td>?</td>\n",
              "      <td>1.01</td>\n",
              "      <td>1</td>\n",
              "      <td>0</td>\n",
              "      <td>?</td>\n",
              "      <td>?</td>\n",
              "      <td>notpresent</td>\n",
              "      <td>notpresent</td>\n",
              "      <td>95</td>\n",
              "      <td>51</td>\n",
              "      <td>1.6</td>\n",
              "      <td>142</td>\n",
              "      <td>3.5</td>\n",
              "      <td>?</td>\n",
              "      <td>?</td>\n",
              "      <td>?</td>\n",
              "      <td>?</td>\n",
              "      <td>no</td>\n",
              "      <td>no</td>\n",
              "      <td>no</td>\n",
              "      <td>good</td>\n",
              "      <td>no</td>\n",
              "      <td>no</td>\n",
              "    </tr>\n",
              "  </tbody>\n",
              "</table>\n",
              "</div>"
            ],
            "text/plain": [
              "  age bp    sg al su rbc pc         pcc  ... wbcc rbcc htn  dm cad appet  pe ane\n",
              "0  73  ?  1.01  1  0   ?  ?  notpresent  ...    ?    ?  no  no  no  good  no  no\n",
              "\n",
              "[1 rows x 24 columns]"
            ]
          },
          "metadata": {
            "tags": []
          },
          "execution_count": 33
        }
      ]
    },
    {
      "cell_type": "code",
      "metadata": {
        "colab": {
          "base_uri": "https://localhost:8080/"
        },
        "id": "YZj23sqWWree",
        "outputId": "6557a020-a1fd-43d0-e854-e5c91cccd6a4"
      },
      "source": [
        "print(y)"
      ],
      "execution_count": 34,
      "outputs": [
        {
          "output_type": "stream",
          "text": [
            "     class\n",
            "0        1\n",
            "1        1\n",
            "2        1\n",
            "3        0\n",
            "4        0\n",
            "..     ...\n",
            "395      1\n",
            "396      1\n",
            "397      1\n",
            "398      1\n",
            "399      1\n",
            "\n",
            "[400 rows x 1 columns]\n"
          ],
          "name": "stdout"
        }
      ]
    },
    {
      "cell_type": "code",
      "metadata": {
        "colab": {
          "base_uri": "https://localhost:8080/"
        },
        "id": "H4wG4EtpWrbx",
        "outputId": "cf7ba122-009e-4374-98d3-4212291f0d7b"
      },
      "source": [
        "x[x==\"?\"]=np.nan\r\n",
        "x['age'].isna().sum()"
      ],
      "execution_count": 47,
      "outputs": [
        {
          "output_type": "execute_result",
          "data": {
            "text/plain": [
              "9"
            ]
          },
          "metadata": {
            "tags": []
          },
          "execution_count": 47
        }
      ]
    },
    {
      "cell_type": "code",
      "metadata": {
        "colab": {
          "base_uri": "https://localhost:8080/"
        },
        "id": "yUht_L5uWrZI",
        "outputId": "3fb0d91f-e0b2-46b7-dfc8-9a9ced64c4fc"
      },
      "source": [
        "x['age'].fillna(x['age'].median(),inplace = True)\r\n",
        "x['age'].isna().sum()"
      ],
      "execution_count": 51,
      "outputs": [
        {
          "output_type": "execute_result",
          "data": {
            "text/plain": [
              "0"
            ]
          },
          "metadata": {
            "tags": []
          },
          "execution_count": 51
        }
      ]
    },
    {
      "cell_type": "code",
      "metadata": {
        "id": "HulZqCWuWrUU"
      },
      "source": [
        "x['age'].fillna(x['age'].median(),inplace = True)\r\n",
        "x['age'].isna().sum()"
      ],
      "execution_count": null,
      "outputs": []
    },
    {
      "cell_type": "code",
      "metadata": {
        "colab": {
          "base_uri": "https://localhost:8080/"
        },
        "id": "U7yxVC8VWrQ2",
        "outputId": "2bb68da3-694d-411a-9916-94c5faf8a0cc"
      },
      "source": [
        "x['bp'].fillna(x['bp'].median(),inplace = True)\r\n",
        "x['bp'].isna().sum()"
      ],
      "execution_count": 52,
      "outputs": [
        {
          "output_type": "execute_result",
          "data": {
            "text/plain": [
              "0"
            ]
          },
          "metadata": {
            "tags": []
          },
          "execution_count": 52
        }
      ]
    },
    {
      "cell_type": "code",
      "metadata": {
        "colab": {
          "base_uri": "https://localhost:8080/"
        },
        "id": "J51HqyMiWrOX",
        "outputId": "56c5e859-2dd9-41dd-8710-57f46479a07d"
      },
      "source": [
        "x['sg'].fillna(x['sg'].median(),inplace = True)\r\n",
        "x['sg'].isna().sum()"
      ],
      "execution_count": 53,
      "outputs": [
        {
          "output_type": "execute_result",
          "data": {
            "text/plain": [
              "0"
            ]
          },
          "metadata": {
            "tags": []
          },
          "execution_count": 53
        }
      ]
    },
    {
      "cell_type": "code",
      "metadata": {
        "colab": {
          "base_uri": "https://localhost:8080/"
        },
        "id": "snJIDf2VWrLv",
        "outputId": "a77849cb-2a5d-470b-9126-5c7e16059eda"
      },
      "source": [
        "a = np.array(x['al'])\r\n",
        "r = sc.mode(a)\r\n",
        "n = r[0]\r\n",
        "x['al'].fillna(int(n),inplace = True)\r\n",
        "x['al'].isna().sum()"
      ],
      "execution_count": 68,
      "outputs": [
        {
          "output_type": "execute_result",
          "data": {
            "text/plain": [
              "0"
            ]
          },
          "metadata": {
            "tags": []
          },
          "execution_count": 68
        }
      ]
    },
    {
      "cell_type": "code",
      "metadata": {
        "colab": {
          "base_uri": "https://localhost:8080/"
        },
        "id": "xhS7R8Mjdm-I",
        "outputId": "a27bc07a-aa3f-47ad-eaf1-ce12b6b6444b"
      },
      "source": [
        "a = np.array(x['su'])\r\n",
        "r = sc.mode(a)\r\n",
        "n = r[0]\r\n",
        "x['su'].fillna(int(n),inplace = True)\r\n",
        "x['su'].isna().sum()"
      ],
      "execution_count": 69,
      "outputs": [
        {
          "output_type": "execute_result",
          "data": {
            "text/plain": [
              "0"
            ]
          },
          "metadata": {
            "tags": []
          },
          "execution_count": 69
        }
      ]
    },
    {
      "cell_type": "code",
      "metadata": {
        "colab": {
          "base_uri": "https://localhost:8080/"
        },
        "id": "TPVK6vaMdmYw",
        "outputId": "e43ddd2d-083f-4add-97b5-ab409ccc4318"
      },
      "source": [
        "def filstr(i):\r\n",
        "    a = np.array(x[i])\r\n",
        "    r = sc.mode(a)\r\n",
        "    n = r[0]\r\n",
        "    x[i].fillna(str(n),inplace = True)\r\n",
        "    print(x[i].isna().sum())\r\n",
        "filstr('rbc')    "
      ],
      "execution_count": 73,
      "outputs": [
        {
          "output_type": "stream",
          "text": [
            "0\n"
          ],
          "name": "stdout"
        }
      ]
    },
    {
      "cell_type": "code",
      "metadata": {
        "colab": {
          "base_uri": "https://localhost:8080/"
        },
        "id": "WwQOIsX8dmM5",
        "outputId": "0d94d45f-ec52-4477-892f-34b8752bb118"
      },
      "source": [
        "filstr('pc')\r\n",
        "filstr('pcc')\r\n",
        "filstr('ba')\r\n",
        "filstr('htn')\r\n",
        "filstr('dm')\r\n",
        "filstr('cad')\r\n",
        "filstr('appet')\r\n",
        "filstr('ane')\r\n",
        "filstr('pe')"
      ],
      "execution_count": 74,
      "outputs": [
        {
          "output_type": "stream",
          "text": [
            "0\n",
            "0\n",
            "0\n",
            "0\n",
            "0\n",
            "0\n",
            "0\n",
            "0\n",
            "0\n"
          ],
          "name": "stdout"
        }
      ]
    },
    {
      "cell_type": "code",
      "metadata": {
        "colab": {
          "base_uri": "https://localhost:8080/"
        },
        "id": "vf9BGCnue8xY",
        "outputId": "b226060f-9fcd-4019-88f8-b843cdcbea4c"
      },
      "source": [
        "x['bgr'].fillna(x['bgr'].median(),inplace = True)\r\n",
        "x['bgr'].isna().sum()"
      ],
      "execution_count": 75,
      "outputs": [
        {
          "output_type": "execute_result",
          "data": {
            "text/plain": [
              "0"
            ]
          },
          "metadata": {
            "tags": []
          },
          "execution_count": 75
        }
      ]
    },
    {
      "cell_type": "code",
      "metadata": {
        "colab": {
          "base_uri": "https://localhost:8080/"
        },
        "id": "uJa0kzomfGyS",
        "outputId": "cec6b645-88ab-4fc7-d106-00d584cdf069"
      },
      "source": [
        "x['bu'].fillna(x['bu'].median(),inplace = True)\r\n",
        "x['bu'].isna().sum()"
      ],
      "execution_count": 76,
      "outputs": [
        {
          "output_type": "execute_result",
          "data": {
            "text/plain": [
              "0"
            ]
          },
          "metadata": {
            "tags": []
          },
          "execution_count": 76
        }
      ]
    },
    {
      "cell_type": "code",
      "metadata": {
        "colab": {
          "base_uri": "https://localhost:8080/"
        },
        "id": "1pZaon2LfGma",
        "outputId": "f91e5480-6b88-4296-bdf5-2cf1d9b82360"
      },
      "source": [
        "x['sc'].fillna(x['sc'].median(),inplace = True)\r\n",
        "x['sc'].isna().sum()"
      ],
      "execution_count": 77,
      "outputs": [
        {
          "output_type": "execute_result",
          "data": {
            "text/plain": [
              "0"
            ]
          },
          "metadata": {
            "tags": []
          },
          "execution_count": 77
        }
      ]
    },
    {
      "cell_type": "code",
      "metadata": {
        "colab": {
          "base_uri": "https://localhost:8080/"
        },
        "id": "zTVHxr3efGTg",
        "outputId": "158c47df-5429-43f4-99dd-4d00c16c477e"
      },
      "source": [
        "x['sod'].fillna(x['sod'].median(),inplace = True)\r\n",
        "x['sod'].isna().sum()"
      ],
      "execution_count": 78,
      "outputs": [
        {
          "output_type": "execute_result",
          "data": {
            "text/plain": [
              "0"
            ]
          },
          "metadata": {
            "tags": []
          },
          "execution_count": 78
        }
      ]
    },
    {
      "cell_type": "code",
      "metadata": {
        "colab": {
          "base_uri": "https://localhost:8080/"
        },
        "id": "b5xscfKmfF-d",
        "outputId": "44676125-b553-4631-855d-8f6798df5f12"
      },
      "source": [
        "x['pot'].fillna(x['pot'].median(),inplace = True)\r\n",
        "x['pot'].isna().sum()"
      ],
      "execution_count": 79,
      "outputs": [
        {
          "output_type": "execute_result",
          "data": {
            "text/plain": [
              "0"
            ]
          },
          "metadata": {
            "tags": []
          },
          "execution_count": 79
        }
      ]
    },
    {
      "cell_type": "code",
      "metadata": {
        "colab": {
          "base_uri": "https://localhost:8080/"
        },
        "id": "QO0IannEfCFZ",
        "outputId": "78af7432-5289-46da-d909-05417f8d5e78"
      },
      "source": [
        "x['hemo'].fillna(x['hemo'].median(),inplace = True)\r\n",
        "x['hemo'].isna().sum()"
      ],
      "execution_count": 80,
      "outputs": [
        {
          "output_type": "execute_result",
          "data": {
            "text/plain": [
              "0"
            ]
          },
          "metadata": {
            "tags": []
          },
          "execution_count": 80
        }
      ]
    },
    {
      "cell_type": "code",
      "metadata": {
        "colab": {
          "base_uri": "https://localhost:8080/"
        },
        "id": "VTr43UubfB5r",
        "outputId": "17825d58-b156-45e5-b62a-a1d2cf5a6959"
      },
      "source": [
        "x['pcv'].fillna(x['pcv'].median(),inplace = True)\r\n",
        "x['pcv'].isna().sum()"
      ],
      "execution_count": 81,
      "outputs": [
        {
          "output_type": "execute_result",
          "data": {
            "text/plain": [
              "0"
            ]
          },
          "metadata": {
            "tags": []
          },
          "execution_count": 81
        }
      ]
    },
    {
      "cell_type": "code",
      "metadata": {
        "colab": {
          "base_uri": "https://localhost:8080/"
        },
        "id": "FZGxv1JqfBwU",
        "outputId": "6de608c9-570c-4afe-b211-82446bf5f17c"
      },
      "source": [
        "x['wbcc'].fillna(x['wbcc'].median(),inplace = True)\r\n",
        "x['wbcc'].isna().sum()"
      ],
      "execution_count": 82,
      "outputs": [
        {
          "output_type": "execute_result",
          "data": {
            "text/plain": [
              "0"
            ]
          },
          "metadata": {
            "tags": []
          },
          "execution_count": 82
        }
      ]
    },
    {
      "cell_type": "code",
      "metadata": {
        "colab": {
          "base_uri": "https://localhost:8080/"
        },
        "id": "8tCQqMNxfBlQ",
        "outputId": "e1a905ca-3fee-41cc-8219-99c408058db9"
      },
      "source": [
        "x['rbcc'].fillna(x['rbcc'].median(),inplace = True)\r\n",
        "x['rbcc'].isna().sum()"
      ],
      "execution_count": 83,
      "outputs": [
        {
          "output_type": "execute_result",
          "data": {
            "text/plain": [
              "0"
            ]
          },
          "metadata": {
            "tags": []
          },
          "execution_count": 83
        }
      ]
    },
    {
      "cell_type": "code",
      "metadata": {
        "colab": {
          "base_uri": "https://localhost:8080/",
          "height": 215
        },
        "id": "IA7QZv4Ddmir",
        "outputId": "ae84fb49-87f3-4e96-a83a-0c2b831e1a85"
      },
      "source": [
        "x.head()"
      ],
      "execution_count": 70,
      "outputs": [
        {
          "output_type": "execute_result",
          "data": {
            "text/html": [
              "<div>\n",
              "<style scoped>\n",
              "    .dataframe tbody tr th:only-of-type {\n",
              "        vertical-align: middle;\n",
              "    }\n",
              "\n",
              "    .dataframe tbody tr th {\n",
              "        vertical-align: top;\n",
              "    }\n",
              "\n",
              "    .dataframe thead th {\n",
              "        text-align: right;\n",
              "    }\n",
              "</style>\n",
              "<table border=\"1\" class=\"dataframe\">\n",
              "  <thead>\n",
              "    <tr style=\"text-align: right;\">\n",
              "      <th></th>\n",
              "      <th>age</th>\n",
              "      <th>bp</th>\n",
              "      <th>sg</th>\n",
              "      <th>al</th>\n",
              "      <th>su</th>\n",
              "      <th>rbc</th>\n",
              "      <th>pc</th>\n",
              "      <th>pcc</th>\n",
              "      <th>ba</th>\n",
              "      <th>bgr</th>\n",
              "      <th>bu</th>\n",
              "      <th>sc</th>\n",
              "      <th>sod</th>\n",
              "      <th>pot</th>\n",
              "      <th>hemo</th>\n",
              "      <th>pcv</th>\n",
              "      <th>wbcc</th>\n",
              "      <th>rbcc</th>\n",
              "      <th>htn</th>\n",
              "      <th>dm</th>\n",
              "      <th>cad</th>\n",
              "      <th>appet</th>\n",
              "      <th>pe</th>\n",
              "      <th>ane</th>\n",
              "    </tr>\n",
              "  </thead>\n",
              "  <tbody>\n",
              "    <tr>\n",
              "      <th>0</th>\n",
              "      <td>73</td>\n",
              "      <td>80</td>\n",
              "      <td>1.01</td>\n",
              "      <td>1</td>\n",
              "      <td>0</td>\n",
              "      <td>NaN</td>\n",
              "      <td>NaN</td>\n",
              "      <td>notpresent</td>\n",
              "      <td>notpresent</td>\n",
              "      <td>95</td>\n",
              "      <td>51</td>\n",
              "      <td>1.6</td>\n",
              "      <td>142</td>\n",
              "      <td>3.5</td>\n",
              "      <td>NaN</td>\n",
              "      <td>NaN</td>\n",
              "      <td>NaN</td>\n",
              "      <td>NaN</td>\n",
              "      <td>no</td>\n",
              "      <td>no</td>\n",
              "      <td>no</td>\n",
              "      <td>good</td>\n",
              "      <td>no</td>\n",
              "      <td>no</td>\n",
              "    </tr>\n",
              "    <tr>\n",
              "      <th>1</th>\n",
              "      <td>62</td>\n",
              "      <td>80</td>\n",
              "      <td>1.015</td>\n",
              "      <td>3</td>\n",
              "      <td>0</td>\n",
              "      <td>abnormal</td>\n",
              "      <td>NaN</td>\n",
              "      <td>notpresent</td>\n",
              "      <td>notpresent</td>\n",
              "      <td>NaN</td>\n",
              "      <td>NaN</td>\n",
              "      <td>NaN</td>\n",
              "      <td>NaN</td>\n",
              "      <td>NaN</td>\n",
              "      <td>14.3</td>\n",
              "      <td>42</td>\n",
              "      <td>10200</td>\n",
              "      <td>4.8</td>\n",
              "      <td>yes</td>\n",
              "      <td>yes</td>\n",
              "      <td>no</td>\n",
              "      <td>good</td>\n",
              "      <td>no</td>\n",
              "      <td>no</td>\n",
              "    </tr>\n",
              "    <tr>\n",
              "      <th>2</th>\n",
              "      <td>50</td>\n",
              "      <td>80</td>\n",
              "      <td>1.02</td>\n",
              "      <td>0</td>\n",
              "      <td>0</td>\n",
              "      <td>normal</td>\n",
              "      <td>NaN</td>\n",
              "      <td>notpresent</td>\n",
              "      <td>notpresent</td>\n",
              "      <td>219</td>\n",
              "      <td>176</td>\n",
              "      <td>13.8</td>\n",
              "      <td>136</td>\n",
              "      <td>4.5</td>\n",
              "      <td>8.6</td>\n",
              "      <td>24</td>\n",
              "      <td>13200</td>\n",
              "      <td>2.7</td>\n",
              "      <td>yes</td>\n",
              "      <td>no</td>\n",
              "      <td>no</td>\n",
              "      <td>good</td>\n",
              "      <td>yes</td>\n",
              "      <td>yes</td>\n",
              "    </tr>\n",
              "    <tr>\n",
              "      <th>3</th>\n",
              "      <td>50</td>\n",
              "      <td>80</td>\n",
              "      <td>1.02</td>\n",
              "      <td>0</td>\n",
              "      <td>0</td>\n",
              "      <td>normal</td>\n",
              "      <td>normal</td>\n",
              "      <td>notpresent</td>\n",
              "      <td>notpresent</td>\n",
              "      <td>92</td>\n",
              "      <td>19</td>\n",
              "      <td>1.2</td>\n",
              "      <td>150</td>\n",
              "      <td>4.8</td>\n",
              "      <td>14.9</td>\n",
              "      <td>48</td>\n",
              "      <td>4700</td>\n",
              "      <td>5.4</td>\n",
              "      <td>no</td>\n",
              "      <td>no</td>\n",
              "      <td>no</td>\n",
              "      <td>good</td>\n",
              "      <td>no</td>\n",
              "      <td>no</td>\n",
              "    </tr>\n",
              "    <tr>\n",
              "      <th>4</th>\n",
              "      <td>35</td>\n",
              "      <td>80</td>\n",
              "      <td>1.02</td>\n",
              "      <td>0</td>\n",
              "      <td>0</td>\n",
              "      <td>normal</td>\n",
              "      <td>normal</td>\n",
              "      <td>NaN</td>\n",
              "      <td>NaN</td>\n",
              "      <td>99</td>\n",
              "      <td>30</td>\n",
              "      <td>0.5</td>\n",
              "      <td>135</td>\n",
              "      <td>4.9</td>\n",
              "      <td>15.4</td>\n",
              "      <td>48</td>\n",
              "      <td>5000</td>\n",
              "      <td>5.2</td>\n",
              "      <td>no</td>\n",
              "      <td>no</td>\n",
              "      <td>no</td>\n",
              "      <td>good</td>\n",
              "      <td>no</td>\n",
              "      <td>no</td>\n",
              "    </tr>\n",
              "  </tbody>\n",
              "</table>\n",
              "</div>"
            ],
            "text/plain": [
              "  age  bp     sg al su       rbc      pc  ... rbcc  htn   dm cad appet   pe  ane\n",
              "0  73  80   1.01  1  0       NaN     NaN  ...  NaN   no   no  no  good   no   no\n",
              "1  62  80  1.015  3  0  abnormal     NaN  ...  4.8  yes  yes  no  good   no   no\n",
              "2  50  80   1.02  0  0    normal     NaN  ...  2.7  yes   no  no  good  yes  yes\n",
              "3  50  80   1.02  0  0    normal  normal  ...  5.4   no   no  no  good   no   no\n",
              "4  35  80   1.02  0  0    normal  normal  ...  5.2   no   no  no  good   no   no\n",
              "\n",
              "[5 rows x 24 columns]"
            ]
          },
          "metadata": {
            "tags": []
          },
          "execution_count": 70
        }
      ]
    },
    {
      "cell_type": "code",
      "metadata": {
        "colab": {
          "base_uri": "https://localhost:8080/",
          "height": 195
        },
        "id": "DjeEYu_vgPGl",
        "outputId": "d5944749-a1b1-4687-fe44-1a327623ebce"
      },
      "source": [
        "le = preprocessing.LabelEncoder()\r\n",
        "l = ['rbc','pc','pcc','ba','htn','dm','cad','appet','pe','ane']\r\n",
        "for i in l:\r\n",
        "    x[i]= le.fit_transform(x[i])\r\n",
        "x.head()"
      ],
      "execution_count": 88,
      "outputs": [
        {
          "output_type": "execute_result",
          "data": {
            "text/html": [
              "<div>\n",
              "<style scoped>\n",
              "    .dataframe tbody tr th:only-of-type {\n",
              "        vertical-align: middle;\n",
              "    }\n",
              "\n",
              "    .dataframe tbody tr th {\n",
              "        vertical-align: top;\n",
              "    }\n",
              "\n",
              "    .dataframe thead th {\n",
              "        text-align: right;\n",
              "    }\n",
              "</style>\n",
              "<table border=\"1\" class=\"dataframe\">\n",
              "  <thead>\n",
              "    <tr style=\"text-align: right;\">\n",
              "      <th></th>\n",
              "      <th>age</th>\n",
              "      <th>bp</th>\n",
              "      <th>sg</th>\n",
              "      <th>al</th>\n",
              "      <th>su</th>\n",
              "      <th>rbc</th>\n",
              "      <th>pc</th>\n",
              "      <th>pcc</th>\n",
              "      <th>ba</th>\n",
              "      <th>bgr</th>\n",
              "      <th>bu</th>\n",
              "      <th>sc</th>\n",
              "      <th>sod</th>\n",
              "      <th>pot</th>\n",
              "      <th>hemo</th>\n",
              "      <th>pcv</th>\n",
              "      <th>wbcc</th>\n",
              "      <th>rbcc</th>\n",
              "      <th>htn</th>\n",
              "      <th>dm</th>\n",
              "      <th>cad</th>\n",
              "      <th>appet</th>\n",
              "      <th>pe</th>\n",
              "      <th>ane</th>\n",
              "    </tr>\n",
              "  </thead>\n",
              "  <tbody>\n",
              "    <tr>\n",
              "      <th>0</th>\n",
              "      <td>73</td>\n",
              "      <td>80</td>\n",
              "      <td>1.01</td>\n",
              "      <td>1</td>\n",
              "      <td>0</td>\n",
              "      <td>0</td>\n",
              "      <td>0</td>\n",
              "      <td>1</td>\n",
              "      <td>1</td>\n",
              "      <td>95</td>\n",
              "      <td>51</td>\n",
              "      <td>1.6</td>\n",
              "      <td>142</td>\n",
              "      <td>3.5</td>\n",
              "      <td>12.65</td>\n",
              "      <td>40</td>\n",
              "      <td>8000</td>\n",
              "      <td>4.8</td>\n",
              "      <td>1</td>\n",
              "      <td>1</td>\n",
              "      <td>1</td>\n",
              "      <td>1</td>\n",
              "      <td>1</td>\n",
              "      <td>1</td>\n",
              "    </tr>\n",
              "    <tr>\n",
              "      <th>1</th>\n",
              "      <td>62</td>\n",
              "      <td>80</td>\n",
              "      <td>1.015</td>\n",
              "      <td>3</td>\n",
              "      <td>0</td>\n",
              "      <td>1</td>\n",
              "      <td>0</td>\n",
              "      <td>1</td>\n",
              "      <td>1</td>\n",
              "      <td>121</td>\n",
              "      <td>42</td>\n",
              "      <td>1.3</td>\n",
              "      <td>138</td>\n",
              "      <td>4.4</td>\n",
              "      <td>14.3</td>\n",
              "      <td>42</td>\n",
              "      <td>10200</td>\n",
              "      <td>4.8</td>\n",
              "      <td>2</td>\n",
              "      <td>2</td>\n",
              "      <td>1</td>\n",
              "      <td>1</td>\n",
              "      <td>1</td>\n",
              "      <td>1</td>\n",
              "    </tr>\n",
              "    <tr>\n",
              "      <th>2</th>\n",
              "      <td>50</td>\n",
              "      <td>80</td>\n",
              "      <td>1.02</td>\n",
              "      <td>0</td>\n",
              "      <td>0</td>\n",
              "      <td>2</td>\n",
              "      <td>0</td>\n",
              "      <td>1</td>\n",
              "      <td>1</td>\n",
              "      <td>219</td>\n",
              "      <td>176</td>\n",
              "      <td>13.8</td>\n",
              "      <td>136</td>\n",
              "      <td>4.5</td>\n",
              "      <td>8.6</td>\n",
              "      <td>24</td>\n",
              "      <td>13200</td>\n",
              "      <td>2.7</td>\n",
              "      <td>2</td>\n",
              "      <td>1</td>\n",
              "      <td>1</td>\n",
              "      <td>1</td>\n",
              "      <td>2</td>\n",
              "      <td>2</td>\n",
              "    </tr>\n",
              "    <tr>\n",
              "      <th>3</th>\n",
              "      <td>50</td>\n",
              "      <td>80</td>\n",
              "      <td>1.02</td>\n",
              "      <td>0</td>\n",
              "      <td>0</td>\n",
              "      <td>2</td>\n",
              "      <td>2</td>\n",
              "      <td>1</td>\n",
              "      <td>1</td>\n",
              "      <td>92</td>\n",
              "      <td>19</td>\n",
              "      <td>1.2</td>\n",
              "      <td>150</td>\n",
              "      <td>4.8</td>\n",
              "      <td>14.9</td>\n",
              "      <td>48</td>\n",
              "      <td>4700</td>\n",
              "      <td>5.4</td>\n",
              "      <td>1</td>\n",
              "      <td>1</td>\n",
              "      <td>1</td>\n",
              "      <td>1</td>\n",
              "      <td>1</td>\n",
              "      <td>1</td>\n",
              "    </tr>\n",
              "    <tr>\n",
              "      <th>4</th>\n",
              "      <td>35</td>\n",
              "      <td>80</td>\n",
              "      <td>1.02</td>\n",
              "      <td>0</td>\n",
              "      <td>0</td>\n",
              "      <td>2</td>\n",
              "      <td>2</td>\n",
              "      <td>0</td>\n",
              "      <td>0</td>\n",
              "      <td>99</td>\n",
              "      <td>30</td>\n",
              "      <td>0.5</td>\n",
              "      <td>135</td>\n",
              "      <td>4.9</td>\n",
              "      <td>15.4</td>\n",
              "      <td>48</td>\n",
              "      <td>5000</td>\n",
              "      <td>5.2</td>\n",
              "      <td>1</td>\n",
              "      <td>1</td>\n",
              "      <td>1</td>\n",
              "      <td>1</td>\n",
              "      <td>1</td>\n",
              "      <td>1</td>\n",
              "    </tr>\n",
              "  </tbody>\n",
              "</table>\n",
              "</div>"
            ],
            "text/plain": [
              "  age  bp     sg al su  rbc  pc  pcc  ...   wbcc rbcc htn dm cad appet pe ane\n",
              "0  73  80   1.01  1  0    0   0    1  ...   8000  4.8   1  1   1     1  1   1\n",
              "1  62  80  1.015  3  0    1   0    1  ...  10200  4.8   2  2   1     1  1   1\n",
              "2  50  80   1.02  0  0    2   0    1  ...  13200  2.7   2  1   1     1  2   2\n",
              "3  50  80   1.02  0  0    2   2    1  ...   4700  5.4   1  1   1     1  1   1\n",
              "4  35  80   1.02  0  0    2   2    0  ...   5000  5.2   1  1   1     1  1   1\n",
              "\n",
              "[5 rows x 24 columns]"
            ]
          },
          "metadata": {
            "tags": []
          },
          "execution_count": 88
        }
      ]
    },
    {
      "cell_type": "code",
      "metadata": {
        "colab": {
          "base_uri": "https://localhost:8080/"
        },
        "id": "o3UDTm0vSgX5",
        "outputId": "55669306-e908-4fb9-e072-b8e631fd4ad9"
      },
      "source": [
        "scaler=StandardScaler()\r\n",
        "scaled_data = scaler.fit_transform(x)\r\n",
        "print(scaled_data.shape)"
      ],
      "execution_count": 89,
      "outputs": [
        {
          "output_type": "stream",
          "text": [
            "(400, 24)\n"
          ],
          "name": "stdout"
        }
      ]
    },
    {
      "cell_type": "code",
      "metadata": {
        "id": "vvd52a3-TJ60"
      },
      "source": [
        "pca=PCA(n_components=2)\r\n",
        "x_pca = pca.fit_transform(scaled_data)"
      ],
      "execution_count": 90,
      "outputs": []
    },
    {
      "cell_type": "code",
      "metadata": {
        "colab": {
          "base_uri": "https://localhost:8080/",
          "height": 405
        },
        "id": "mARxKK2zTkkC",
        "outputId": "ccd673ec-056b-4446-ce84-c06b2e39804c"
      },
      "source": [
        "plt.figure(figsize=(8,6))\r\n",
        "plt.scatter(x_pca[:,0],x_pca[:,1],c=np.array(y))\r\n",
        "plt.xlabel('First principle component')\r\n",
        "plt.ylabel('Second principle component')"
      ],
      "execution_count": 93,
      "outputs": [
        {
          "output_type": "execute_result",
          "data": {
            "text/plain": [
              "Text(0, 0.5, 'Second principle component')"
            ]
          },
          "metadata": {
            "tags": []
          },
          "execution_count": 93
        },
        {
          "output_type": "display_data",
          "data": {
            "image/png": "[encoded data removed]",
            "text/plain": [
              "<Figure size 576x432 with 1 Axes>"
            ]
          },
          "metadata": {
            "tags": [],
            "needs_background": "light"
          }
        }
      ]
    },
    {
      "cell_type": "code",
      "metadata": {
        "colab": {
          "base_uri": "https://localhost:8080/",
          "height": 77
        },
        "id": "1fmWHs7amKfx",
        "outputId": "e4da0721-77a2-4f97-d19c-17aa894c659f"
      },
      "source": [
        "x.head(1)"
      ],
      "execution_count": 114,
      "outputs": [
        {
          "output_type": "execute_result",
          "data": {
            "text/html": [
              "<div>\n",
              "<style scoped>\n",
              "    .dataframe tbody tr th:only-of-type {\n",
              "        vertical-align: middle;\n",
              "    }\n",
              "\n",
              "    .dataframe tbody tr th {\n",
              "        vertical-align: top;\n",
              "    }\n",
              "\n",
              "    .dataframe thead th {\n",
              "        text-align: right;\n",
              "    }\n",
              "</style>\n",
              "<table border=\"1\" class=\"dataframe\">\n",
              "  <thead>\n",
              "    <tr style=\"text-align: right;\">\n",
              "      <th></th>\n",
              "      <th>age</th>\n",
              "      <th>bp</th>\n",
              "      <th>sg</th>\n",
              "      <th>al</th>\n",
              "      <th>su</th>\n",
              "      <th>rbc</th>\n",
              "      <th>pc</th>\n",
              "      <th>pcc</th>\n",
              "      <th>ba</th>\n",
              "      <th>bgr</th>\n",
              "      <th>bu</th>\n",
              "      <th>sc</th>\n",
              "      <th>sod</th>\n",
              "      <th>pot</th>\n",
              "      <th>hemo</th>\n",
              "      <th>pcv</th>\n",
              "      <th>wbcc</th>\n",
              "      <th>rbcc</th>\n",
              "      <th>htn</th>\n",
              "      <th>dm</th>\n",
              "      <th>cad</th>\n",
              "      <th>appet</th>\n",
              "      <th>pe</th>\n",
              "      <th>ane</th>\n",
              "    </tr>\n",
              "  </thead>\n",
              "  <tbody>\n",
              "    <tr>\n",
              "      <th>0</th>\n",
              "      <td>73</td>\n",
              "      <td>80</td>\n",
              "      <td>1.01</td>\n",
              "      <td>1</td>\n",
              "      <td>0</td>\n",
              "      <td>0</td>\n",
              "      <td>0</td>\n",
              "      <td>1</td>\n",
              "      <td>1</td>\n",
              "      <td>95</td>\n",
              "      <td>51</td>\n",
              "      <td>1.6</td>\n",
              "      <td>142</td>\n",
              "      <td>3.5</td>\n",
              "      <td>12.65</td>\n",
              "      <td>40</td>\n",
              "      <td>8000</td>\n",
              "      <td>4.8</td>\n",
              "      <td>1</td>\n",
              "      <td>1</td>\n",
              "      <td>1</td>\n",
              "      <td>1</td>\n",
              "      <td>1</td>\n",
              "      <td>1</td>\n",
              "    </tr>\n",
              "  </tbody>\n",
              "</table>\n",
              "</div>"
            ],
            "text/plain": [
              "  age  bp    sg al su  rbc  pc  pcc  ...  wbcc rbcc htn dm cad appet pe ane\n",
              "0  73  80  1.01  1  0    0   0    1  ...  8000  4.8   1  1   1     1  1   1\n",
              "\n",
              "[1 rows x 24 columns]"
            ]
          },
          "metadata": {
            "tags": []
          },
          "execution_count": 114
        }
      ]
    },
    {
      "cell_type": "code",
      "metadata": {
        "colab": {
          "base_uri": "https://localhost:8080/",
          "height": 77
        },
        "id": "fPfaQBTu4u9_",
        "outputId": "7c4a9ad6-c02d-466d-958b-f9f3df8d316a"
      },
      "source": [
        "df = pd.concat([x,y],axis=1)\r\n",
        "df.head(1)"
      ],
      "execution_count": 154,
      "outputs": [
        {
          "output_type": "execute_result",
          "data": {
            "text/html": [
              "<div>\n",
              "<style scoped>\n",
              "    .dataframe tbody tr th:only-of-type {\n",
              "        vertical-align: middle;\n",
              "    }\n",
              "\n",
              "    .dataframe tbody tr th {\n",
              "        vertical-align: top;\n",
              "    }\n",
              "\n",
              "    .dataframe thead th {\n",
              "        text-align: right;\n",
              "    }\n",
              "</style>\n",
              "<table border=\"1\" class=\"dataframe\">\n",
              "  <thead>\n",
              "    <tr style=\"text-align: right;\">\n",
              "      <th></th>\n",
              "      <th>age</th>\n",
              "      <th>bp</th>\n",
              "      <th>sg</th>\n",
              "      <th>al</th>\n",
              "      <th>su</th>\n",
              "      <th>rbc</th>\n",
              "      <th>pc</th>\n",
              "      <th>pcc</th>\n",
              "      <th>ba</th>\n",
              "      <th>bgr</th>\n",
              "      <th>bu</th>\n",
              "      <th>sc</th>\n",
              "      <th>sod</th>\n",
              "      <th>pot</th>\n",
              "      <th>hemo</th>\n",
              "      <th>pcv</th>\n",
              "      <th>wbcc</th>\n",
              "      <th>rbcc</th>\n",
              "      <th>htn</th>\n",
              "      <th>dm</th>\n",
              "      <th>cad</th>\n",
              "      <th>appet</th>\n",
              "      <th>pe</th>\n",
              "      <th>ane</th>\n",
              "      <th>class</th>\n",
              "    </tr>\n",
              "  </thead>\n",
              "  <tbody>\n",
              "    <tr>\n",
              "      <th>0</th>\n",
              "      <td>73</td>\n",
              "      <td>80</td>\n",
              "      <td>1.01</td>\n",
              "      <td>1</td>\n",
              "      <td>0</td>\n",
              "      <td>0</td>\n",
              "      <td>0</td>\n",
              "      <td>1</td>\n",
              "      <td>1</td>\n",
              "      <td>95</td>\n",
              "      <td>51</td>\n",
              "      <td>1.6</td>\n",
              "      <td>142</td>\n",
              "      <td>3.5</td>\n",
              "      <td>12.65</td>\n",
              "      <td>40</td>\n",
              "      <td>8000</td>\n",
              "      <td>4.8</td>\n",
              "      <td>1</td>\n",
              "      <td>1</td>\n",
              "      <td>1</td>\n",
              "      <td>1</td>\n",
              "      <td>1</td>\n",
              "      <td>1</td>\n",
              "      <td>1</td>\n",
              "    </tr>\n",
              "  </tbody>\n",
              "</table>\n",
              "</div>"
            ],
            "text/plain": [
              "  age  bp    sg al su  rbc  pc  pcc  ...  rbcc htn dm cad appet pe ane class\n",
              "0  73  80  1.01  1  0    0   0    1  ...   4.8   1  1   1     1  1   1     1\n",
              "\n",
              "[1 rows x 25 columns]"
            ]
          },
          "metadata": {
            "tags": []
          },
          "execution_count": 154
        }
      ]
    },
    {
      "cell_type": "code",
      "metadata": {
        "colab": {
          "base_uri": "https://localhost:8080/",
          "height": 373
        },
        "id": "jrFQ4TrK6_wa",
        "outputId": "6e123bf7-dc18-4741-f3cb-d467fac47544"
      },
      "source": [
        "df.corr()"
      ],
      "execution_count": 155,
      "outputs": [
        {
          "output_type": "execute_result",
          "data": {
            "text/html": [
              "<div>\n",
              "<style scoped>\n",
              "    .dataframe tbody tr th:only-of-type {\n",
              "        vertical-align: middle;\n",
              "    }\n",
              "\n",
              "    .dataframe tbody tr th {\n",
              "        vertical-align: top;\n",
              "    }\n",
              "\n",
              "    .dataframe thead th {\n",
              "        text-align: right;\n",
              "    }\n",
              "</style>\n",
              "<table border=\"1\" class=\"dataframe\">\n",
              "  <thead>\n",
              "    <tr style=\"text-align: right;\">\n",
              "      <th></th>\n",
              "      <th>rbc</th>\n",
              "      <th>pc</th>\n",
              "      <th>pcc</th>\n",
              "      <th>ba</th>\n",
              "      <th>htn</th>\n",
              "      <th>dm</th>\n",
              "      <th>cad</th>\n",
              "      <th>appet</th>\n",
              "      <th>pe</th>\n",
              "      <th>ane</th>\n",
              "      <th>class</th>\n",
              "    </tr>\n",
              "  </thead>\n",
              "  <tbody>\n",
              "    <tr>\n",
              "      <th>rbc</th>\n",
              "      <td>1.000000</td>\n",
              "      <td>0.393821</td>\n",
              "      <td>0.002845</td>\n",
              "      <td>0.019199</td>\n",
              "      <td>-0.321229</td>\n",
              "      <td>-0.358417</td>\n",
              "      <td>-0.129224</td>\n",
              "      <td>-0.190258</td>\n",
              "      <td>-0.143371</td>\n",
              "      <td>-0.135308</td>\n",
              "      <td>-0.629978</td>\n",
              "    </tr>\n",
              "    <tr>\n",
              "      <th>pc</th>\n",
              "      <td>0.393821</td>\n",
              "      <td>1.000000</td>\n",
              "      <td>-0.136040</td>\n",
              "      <td>-0.088435</td>\n",
              "      <td>-0.344689</td>\n",
              "      <td>-0.364847</td>\n",
              "      <td>-0.154193</td>\n",
              "      <td>-0.172015</td>\n",
              "      <td>-0.244199</td>\n",
              "      <td>-0.233601</td>\n",
              "      <td>-0.403575</td>\n",
              "    </tr>\n",
              "    <tr>\n",
              "      <th>pcc</th>\n",
              "      <td>0.002845</td>\n",
              "      <td>-0.136040</td>\n",
              "      <td>1.000000</td>\n",
              "      <td>0.376102</td>\n",
              "      <td>0.206843</td>\n",
              "      <td>0.177564</td>\n",
              "      <td>0.184861</td>\n",
              "      <td>0.193949</td>\n",
              "      <td>0.113742</td>\n",
              "      <td>0.178299</td>\n",
              "      <td>0.289498</td>\n",
              "    </tr>\n",
              "    <tr>\n",
              "      <th>ba</th>\n",
              "      <td>0.019199</td>\n",
              "      <td>-0.088435</td>\n",
              "      <td>0.376102</td>\n",
              "      <td>1.000000</td>\n",
              "      <td>0.111083</td>\n",
              "      <td>0.101515</td>\n",
              "      <td>0.157115</td>\n",
              "      <td>0.155157</td>\n",
              "      <td>0.141271</td>\n",
              "      <td>0.064608</td>\n",
              "      <td>0.221212</td>\n",
              "    </tr>\n",
              "    <tr>\n",
              "      <th>htn</th>\n",
              "      <td>-0.321229</td>\n",
              "      <td>-0.344689</td>\n",
              "      <td>0.206843</td>\n",
              "      <td>0.111083</td>\n",
              "      <td>1.000000</td>\n",
              "      <td>0.622197</td>\n",
              "      <td>0.359231</td>\n",
              "      <td>0.344863</td>\n",
              "      <td>0.369831</td>\n",
              "      <td>0.346571</td>\n",
              "      <td>0.592895</td>\n",
              "    </tr>\n",
              "    <tr>\n",
              "      <th>dm</th>\n",
              "      <td>-0.358417</td>\n",
              "      <td>-0.364847</td>\n",
              "      <td>0.177564</td>\n",
              "      <td>0.101515</td>\n",
              "      <td>0.622197</td>\n",
              "      <td>1.000000</td>\n",
              "      <td>0.307705</td>\n",
              "      <td>0.325319</td>\n",
              "      <td>0.308890</td>\n",
              "      <td>0.187221</td>\n",
              "      <td>0.562271</td>\n",
              "    </tr>\n",
              "    <tr>\n",
              "      <th>cad</th>\n",
              "      <td>-0.129224</td>\n",
              "      <td>-0.154193</td>\n",
              "      <td>0.184861</td>\n",
              "      <td>0.157115</td>\n",
              "      <td>0.359231</td>\n",
              "      <td>0.307705</td>\n",
              "      <td>1.000000</td>\n",
              "      <td>0.159351</td>\n",
              "      <td>0.174382</td>\n",
              "      <td>0.054521</td>\n",
              "      <td>0.250040</td>\n",
              "    </tr>\n",
              "    <tr>\n",
              "      <th>appet</th>\n",
              "      <td>-0.190258</td>\n",
              "      <td>-0.172015</td>\n",
              "      <td>0.193949</td>\n",
              "      <td>0.155157</td>\n",
              "      <td>0.344863</td>\n",
              "      <td>0.325319</td>\n",
              "      <td>0.159351</td>\n",
              "      <td>1.000000</td>\n",
              "      <td>0.429592</td>\n",
              "      <td>0.272003</td>\n",
              "      <td>0.397072</td>\n",
              "    </tr>\n",
              "    <tr>\n",
              "      <th>pe</th>\n",
              "      <td>-0.143371</td>\n",
              "      <td>-0.244199</td>\n",
              "      <td>0.113742</td>\n",
              "      <td>0.141271</td>\n",
              "      <td>0.369831</td>\n",
              "      <td>0.308890</td>\n",
              "      <td>0.174382</td>\n",
              "      <td>0.429592</td>\n",
              "      <td>1.000000</td>\n",
              "      <td>0.225504</td>\n",
              "      <td>0.379163</td>\n",
              "    </tr>\n",
              "    <tr>\n",
              "      <th>ane</th>\n",
              "      <td>-0.135308</td>\n",
              "      <td>-0.233601</td>\n",
              "      <td>0.178299</td>\n",
              "      <td>0.064608</td>\n",
              "      <td>0.346571</td>\n",
              "      <td>0.187221</td>\n",
              "      <td>0.054521</td>\n",
              "      <td>0.272003</td>\n",
              "      <td>0.225504</td>\n",
              "      <td>1.000000</td>\n",
              "      <td>0.330260</td>\n",
              "    </tr>\n",
              "    <tr>\n",
              "      <th>class</th>\n",
              "      <td>-0.629978</td>\n",
              "      <td>-0.403575</td>\n",
              "      <td>0.289498</td>\n",
              "      <td>0.221212</td>\n",
              "      <td>0.592895</td>\n",
              "      <td>0.562271</td>\n",
              "      <td>0.250040</td>\n",
              "      <td>0.397072</td>\n",
              "      <td>0.379163</td>\n",
              "      <td>0.330260</td>\n",
              "      <td>1.000000</td>\n",
              "    </tr>\n",
              "  </tbody>\n",
              "</table>\n",
              "</div>"
            ],
            "text/plain": [
              "            rbc        pc       pcc  ...        pe       ane     class\n",
              "rbc    1.000000  0.393821  0.002845  ... -0.143371 -0.135308 -0.629978\n",
              "pc     0.393821  1.000000 -0.136040  ... -0.244199 -0.233601 -0.403575\n",
              "pcc    0.002845 -0.136040  1.000000  ...  0.113742  0.178299  0.289498\n",
              "ba     0.019199 -0.088435  0.376102  ...  0.141271  0.064608  0.221212\n",
              "htn   -0.321229 -0.344689  0.206843  ...  0.369831  0.346571  0.592895\n",
              "dm    -0.358417 -0.364847  0.177564  ...  0.308890  0.187221  0.562271\n",
              "cad   -0.129224 -0.154193  0.184861  ...  0.174382  0.054521  0.250040\n",
              "appet -0.190258 -0.172015  0.193949  ...  0.429592  0.272003  0.397072\n",
              "pe    -0.143371 -0.244199  0.113742  ...  1.000000  0.225504  0.379163\n",
              "ane   -0.135308 -0.233601  0.178299  ...  0.225504  1.000000  0.330260\n",
              "class -0.629978 -0.403575  0.289498  ...  0.379163  0.330260  1.000000\n",
              "\n",
              "[11 rows x 11 columns]"
            ]
          },
          "metadata": {
            "tags": []
          },
          "execution_count": 155
        }
      ]
    },
    {
      "cell_type": "code",
      "metadata": {
        "colab": {
          "base_uri": "https://localhost:8080/",
          "height": 613
        },
        "id": "D3W12J_ZmSWM",
        "outputId": "622e703e-4f89-4fac-ebef-3003ffe1a842"
      },
      "source": [
        "plt.figure(figsize=(20,10))\r\n",
        "sns.heatmap(s.corr(),annot=True)"
      ],
      "execution_count": 156,
      "outputs": [
        {
          "output_type": "execute_result",
          "data": {
            "text/plain": [
              "<matplotlib.axes._subplots.AxesSubplot at 0x7facb1691c50>"
            ]
          },
          "metadata": {
            "tags": []
          },
          "execution_count": 156
        },
        {
          "output_type": "display_data",
          "data": {
            "image/png": "[encoded data removed]",
            "text/plain": [
              "<Figure size 1440x720 with 2 Axes>"
            ]
          },
          "metadata": {
            "tags": [],
            "needs_background": "light"
          }
        }
      ]
    },
    {
      "cell_type": "code",
      "metadata": {
        "colab": {
          "base_uri": "https://localhost:8080/"
        },
        "id": "S7NxApm3T51e",
        "outputId": "b00d7d68-eaaa-427b-84f6-ae3037db5298"
      },
      "source": [
        "\r\n",
        "classifier = DecisionTreeClassifier(random_state = 0)\r\n",
        "classifier.fit(x, y)\r\n",
        "coef = classifier.feature_importances_\r\n",
        "for i,v in zip(x.columns,coef):\r\n",
        "\tprint(i,':',v*10)\r\n",
        "    #print('Feature: %0d, Score: %.5f' % (i+1,v*10))"
      ],
      "execution_count": 127,
      "outputs": [
        {
          "output_type": "stream",
          "text": [
            "age : 0.0\n",
            "bp : 0.0\n",
            "sg : 1.6362962962962961\n",
            "al : 0.0\n",
            "su : 0.0\n",
            "rbc : 0.0\n",
            "pc : 0.0\n",
            "pcc : 0.0\n",
            "ba : 0.0\n",
            "bgr : 0.12800000000000003\n",
            "bu : 0.26474548922308344\n",
            "sc : 0.00663063063062997\n",
            "sod : 0.0\n",
            "pot : 0.0\n",
            "hemo : 7.126672891378773\n",
            "pcv : 0.019934224973873406\n",
            "wbcc : 0.0\n",
            "rbcc : 0.5043871341640103\n",
            "htn : 0.31333333333333374\n",
            "dm : 0.0\n",
            "cad : 0.0\n",
            "appet : 0.0\n",
            "pe : 0.0\n",
            "ane : 0.0\n"
          ],
          "name": "stdout"
        }
      ]
    },
    {
      "cell_type": "code",
      "metadata": {
        "colab": {
          "base_uri": "https://localhost:8080/"
        },
        "id": "dw3NNPabjTPY",
        "outputId": "14487171-9098-4d3a-b803-5c82fb67c2ab"
      },
      "source": [
        "  classifier.score(x,y)"
      ],
      "execution_count": 108,
      "outputs": [
        {
          "output_type": "execute_result",
          "data": {
            "text/plain": [
              "1.0"
            ]
          },
          "metadata": {
            "tags": []
          },
          "execution_count": 108
        }
      ]
    },
    {
      "cell_type": "code",
      "metadata": {
        "id": "kw0lIzv82arx"
      },
      "source": [
        ""
      ],
      "execution_count": null,
      "outputs": []
    }
  ]
}